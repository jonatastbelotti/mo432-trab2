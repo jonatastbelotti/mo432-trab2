{
  "nbformat": 4,
  "nbformat_minor": 0,
  "metadata": {
    "colab": {
      "name": "Trab 2",
      "provenance": [],
      "authorship_tag": "ABX9TyPzoNIG6peXRdBlZdALCQ56",
      "include_colab_link": true
    },
    "kernelspec": {
      "name": "python3",
      "display_name": "Python 3"
    },
    "accelerator": "GPU"
  },
  "cells": [
    {
      "cell_type": "markdown",
      "metadata": {
        "id": "view-in-github",
        "colab_type": "text"
      },
      "source": [
        "<a href=\"https://colab.research.google.com/github/jonatastbelotti/mo432-trab2/blob/master/Trab_2.ipynb\" target=\"_parent\"><img src=\"https://colab.research.google.com/assets/colab-badge.svg\" alt=\"Open In Colab\"/></a>"
      ]
    },
    {
      "cell_type": "markdown",
      "metadata": {
        "id": "zNAiAKWBCK6h",
        "colab_type": "text"
      },
      "source": [
        "Jônatas Trabuco Belotti</br>\n",
        "RA: 230260</br>\n",
        "jonatas.t.belotti@hotmail.com"
      ]
    },
    {
      "cell_type": "markdown",
      "metadata": {
        "id": "He7wZuPWBAi7",
        "colab_type": "text"
      },
      "source": [
        "# Leia\n",
        "Leia o arquivo Bias_correction_ucl.csv. O atributo de saída é Next_Tmax (a temperatura máxima no próximo dia). A derscriçao dos dados esta [aqui](https://archive.ics.uci.edu/ml/datasets/Bias+correction+of+numerical+prediction+model+temperature+forecast):\n",
        "\n",
        "\n",
        "* Remova a coluna Date;\n",
        "* Remova a coluna Next_Tmin (coluna 25). O objetivo original dos dados é prever tanto Next_Tmin quanto Next_tmax. Mas nos so vamos usar o Next_Tmax. Mas não queremos que o valor do Next_Tmin influencie nessa previsão;\n",
        "* remova as linhas que tem valor faltante. Das 7752 linhas originais sobram 7588.\n",
        "\n"
      ]
    },
    {
      "cell_type": "code",
      "metadata": {
        "id": "3haxON3EDBRg",
        "colab_type": "code",
        "colab": {
          "base_uri": "https://localhost:8080/",
          "height": 456
        },
        "outputId": "42619b43-9601-487f-d165-64fee1496467"
      },
      "source": [
        "import pandas as pd\n",
        "\n",
        "df = pd.read_csv(\"/content/Bias_correction_ucl.csv\")\n",
        "df = df.drop([\"Date\", \"Next_Tmin\"], axis=1) # Remove colunas\n",
        "df = df.dropna() # Remove toda linha com pelo menos um valor faltante\n",
        "df"
      ],
      "execution_count": 3,
      "outputs": [
        {
          "output_type": "execute_result",
          "data": {
            "text/html": [
              "<div>\n",
              "<style scoped>\n",
              "    .dataframe tbody tr th:only-of-type {\n",
              "        vertical-align: middle;\n",
              "    }\n",
              "\n",
              "    .dataframe tbody tr th {\n",
              "        vertical-align: top;\n",
              "    }\n",
              "\n",
              "    .dataframe thead th {\n",
              "        text-align: right;\n",
              "    }\n",
              "</style>\n",
              "<table border=\"1\" class=\"dataframe\">\n",
              "  <thead>\n",
              "    <tr style=\"text-align: right;\">\n",
              "      <th></th>\n",
              "      <th>station</th>\n",
              "      <th>Present_Tmax</th>\n",
              "      <th>Present_Tmin</th>\n",
              "      <th>LDAPS_RHmin</th>\n",
              "      <th>LDAPS_RHmax</th>\n",
              "      <th>LDAPS_Tmax_lapse</th>\n",
              "      <th>LDAPS_Tmin_lapse</th>\n",
              "      <th>LDAPS_WS</th>\n",
              "      <th>LDAPS_LH</th>\n",
              "      <th>LDAPS_CC1</th>\n",
              "      <th>LDAPS_CC2</th>\n",
              "      <th>LDAPS_CC3</th>\n",
              "      <th>LDAPS_CC4</th>\n",
              "      <th>LDAPS_PPT1</th>\n",
              "      <th>LDAPS_PPT2</th>\n",
              "      <th>LDAPS_PPT3</th>\n",
              "      <th>LDAPS_PPT4</th>\n",
              "      <th>lat</th>\n",
              "      <th>lon</th>\n",
              "      <th>DEM</th>\n",
              "      <th>Slope</th>\n",
              "      <th>Solar radiation</th>\n",
              "      <th>Next_Tmax</th>\n",
              "    </tr>\n",
              "  </thead>\n",
              "  <tbody>\n",
              "    <tr>\n",
              "      <th>0</th>\n",
              "      <td>1.0</td>\n",
              "      <td>28.7</td>\n",
              "      <td>21.4</td>\n",
              "      <td>58.255688</td>\n",
              "      <td>91.116364</td>\n",
              "      <td>28.074101</td>\n",
              "      <td>23.006936</td>\n",
              "      <td>6.818887</td>\n",
              "      <td>69.451805</td>\n",
              "      <td>0.233947</td>\n",
              "      <td>0.203896</td>\n",
              "      <td>1.616969e-01</td>\n",
              "      <td>0.130928</td>\n",
              "      <td>0.0</td>\n",
              "      <td>0.0</td>\n",
              "      <td>0.0</td>\n",
              "      <td>0.0</td>\n",
              "      <td>37.6046</td>\n",
              "      <td>126.991</td>\n",
              "      <td>212.3350</td>\n",
              "      <td>2.7850</td>\n",
              "      <td>5992.895996</td>\n",
              "      <td>29.1</td>\n",
              "    </tr>\n",
              "    <tr>\n",
              "      <th>1</th>\n",
              "      <td>2.0</td>\n",
              "      <td>31.9</td>\n",
              "      <td>21.6</td>\n",
              "      <td>52.263397</td>\n",
              "      <td>90.604721</td>\n",
              "      <td>29.850689</td>\n",
              "      <td>24.035009</td>\n",
              "      <td>5.691890</td>\n",
              "      <td>51.937448</td>\n",
              "      <td>0.225508</td>\n",
              "      <td>0.251771</td>\n",
              "      <td>1.594441e-01</td>\n",
              "      <td>0.127727</td>\n",
              "      <td>0.0</td>\n",
              "      <td>0.0</td>\n",
              "      <td>0.0</td>\n",
              "      <td>0.0</td>\n",
              "      <td>37.6046</td>\n",
              "      <td>127.032</td>\n",
              "      <td>44.7624</td>\n",
              "      <td>0.5141</td>\n",
              "      <td>5869.312500</td>\n",
              "      <td>30.5</td>\n",
              "    </tr>\n",
              "    <tr>\n",
              "      <th>2</th>\n",
              "      <td>3.0</td>\n",
              "      <td>31.6</td>\n",
              "      <td>23.3</td>\n",
              "      <td>48.690479</td>\n",
              "      <td>83.973587</td>\n",
              "      <td>30.091292</td>\n",
              "      <td>24.565633</td>\n",
              "      <td>6.138224</td>\n",
              "      <td>20.573050</td>\n",
              "      <td>0.209344</td>\n",
              "      <td>0.257469</td>\n",
              "      <td>2.040915e-01</td>\n",
              "      <td>0.142125</td>\n",
              "      <td>0.0</td>\n",
              "      <td>0.0</td>\n",
              "      <td>0.0</td>\n",
              "      <td>0.0</td>\n",
              "      <td>37.5776</td>\n",
              "      <td>127.058</td>\n",
              "      <td>33.3068</td>\n",
              "      <td>0.2661</td>\n",
              "      <td>5863.555664</td>\n",
              "      <td>31.1</td>\n",
              "    </tr>\n",
              "    <tr>\n",
              "      <th>3</th>\n",
              "      <td>4.0</td>\n",
              "      <td>32.0</td>\n",
              "      <td>23.4</td>\n",
              "      <td>58.239788</td>\n",
              "      <td>96.483688</td>\n",
              "      <td>29.704629</td>\n",
              "      <td>23.326177</td>\n",
              "      <td>5.650050</td>\n",
              "      <td>65.727144</td>\n",
              "      <td>0.216372</td>\n",
              "      <td>0.226002</td>\n",
              "      <td>1.611574e-01</td>\n",
              "      <td>0.134249</td>\n",
              "      <td>0.0</td>\n",
              "      <td>0.0</td>\n",
              "      <td>0.0</td>\n",
              "      <td>0.0</td>\n",
              "      <td>37.6450</td>\n",
              "      <td>127.022</td>\n",
              "      <td>45.7160</td>\n",
              "      <td>2.5348</td>\n",
              "      <td>5856.964844</td>\n",
              "      <td>31.7</td>\n",
              "    </tr>\n",
              "    <tr>\n",
              "      <th>4</th>\n",
              "      <td>5.0</td>\n",
              "      <td>31.4</td>\n",
              "      <td>21.9</td>\n",
              "      <td>56.174095</td>\n",
              "      <td>90.155128</td>\n",
              "      <td>29.113934</td>\n",
              "      <td>23.486480</td>\n",
              "      <td>5.735004</td>\n",
              "      <td>107.965535</td>\n",
              "      <td>0.151407</td>\n",
              "      <td>0.249995</td>\n",
              "      <td>1.788925e-01</td>\n",
              "      <td>0.170021</td>\n",
              "      <td>0.0</td>\n",
              "      <td>0.0</td>\n",
              "      <td>0.0</td>\n",
              "      <td>0.0</td>\n",
              "      <td>37.5507</td>\n",
              "      <td>127.135</td>\n",
              "      <td>35.0380</td>\n",
              "      <td>0.5055</td>\n",
              "      <td>5859.552246</td>\n",
              "      <td>31.2</td>\n",
              "    </tr>\n",
              "    <tr>\n",
              "      <th>...</th>\n",
              "      <td>...</td>\n",
              "      <td>...</td>\n",
              "      <td>...</td>\n",
              "      <td>...</td>\n",
              "      <td>...</td>\n",
              "      <td>...</td>\n",
              "      <td>...</td>\n",
              "      <td>...</td>\n",
              "      <td>...</td>\n",
              "      <td>...</td>\n",
              "      <td>...</td>\n",
              "      <td>...</td>\n",
              "      <td>...</td>\n",
              "      <td>...</td>\n",
              "      <td>...</td>\n",
              "      <td>...</td>\n",
              "      <td>...</td>\n",
              "      <td>...</td>\n",
              "      <td>...</td>\n",
              "      <td>...</td>\n",
              "      <td>...</td>\n",
              "      <td>...</td>\n",
              "      <td>...</td>\n",
              "    </tr>\n",
              "    <tr>\n",
              "      <th>7745</th>\n",
              "      <td>21.0</td>\n",
              "      <td>23.1</td>\n",
              "      <td>17.8</td>\n",
              "      <td>24.688997</td>\n",
              "      <td>78.261383</td>\n",
              "      <td>27.812697</td>\n",
              "      <td>18.303014</td>\n",
              "      <td>6.603253</td>\n",
              "      <td>9.614074</td>\n",
              "      <td>0.052902</td>\n",
              "      <td>0.030169</td>\n",
              "      <td>0.000000e+00</td>\n",
              "      <td>0.004380</td>\n",
              "      <td>0.0</td>\n",
              "      <td>0.0</td>\n",
              "      <td>0.0</td>\n",
              "      <td>0.0</td>\n",
              "      <td>37.5507</td>\n",
              "      <td>127.040</td>\n",
              "      <td>26.2980</td>\n",
              "      <td>0.5721</td>\n",
              "      <td>4456.024414</td>\n",
              "      <td>27.6</td>\n",
              "    </tr>\n",
              "    <tr>\n",
              "      <th>7746</th>\n",
              "      <td>22.0</td>\n",
              "      <td>22.5</td>\n",
              "      <td>17.4</td>\n",
              "      <td>30.094858</td>\n",
              "      <td>83.690018</td>\n",
              "      <td>26.704905</td>\n",
              "      <td>17.814038</td>\n",
              "      <td>5.768083</td>\n",
              "      <td>82.146707</td>\n",
              "      <td>0.066461</td>\n",
              "      <td>0.024518</td>\n",
              "      <td>5.850000e-07</td>\n",
              "      <td>0.017678</td>\n",
              "      <td>0.0</td>\n",
              "      <td>0.0</td>\n",
              "      <td>0.0</td>\n",
              "      <td>0.0</td>\n",
              "      <td>37.5102</td>\n",
              "      <td>127.086</td>\n",
              "      <td>21.9668</td>\n",
              "      <td>0.1332</td>\n",
              "      <td>4441.803711</td>\n",
              "      <td>28.0</td>\n",
              "    </tr>\n",
              "    <tr>\n",
              "      <th>7747</th>\n",
              "      <td>23.0</td>\n",
              "      <td>23.3</td>\n",
              "      <td>17.1</td>\n",
              "      <td>26.741310</td>\n",
              "      <td>78.869858</td>\n",
              "      <td>26.352081</td>\n",
              "      <td>18.775678</td>\n",
              "      <td>6.148918</td>\n",
              "      <td>72.058294</td>\n",
              "      <td>0.030034</td>\n",
              "      <td>0.081035</td>\n",
              "      <td>0.000000e+00</td>\n",
              "      <td>0.000000</td>\n",
              "      <td>0.0</td>\n",
              "      <td>0.0</td>\n",
              "      <td>0.0</td>\n",
              "      <td>0.0</td>\n",
              "      <td>37.5372</td>\n",
              "      <td>126.891</td>\n",
              "      <td>15.5876</td>\n",
              "      <td>0.1554</td>\n",
              "      <td>4443.313965</td>\n",
              "      <td>28.3</td>\n",
              "    </tr>\n",
              "    <tr>\n",
              "      <th>7748</th>\n",
              "      <td>24.0</td>\n",
              "      <td>23.3</td>\n",
              "      <td>17.7</td>\n",
              "      <td>24.040634</td>\n",
              "      <td>77.294975</td>\n",
              "      <td>27.010193</td>\n",
              "      <td>18.733519</td>\n",
              "      <td>6.542819</td>\n",
              "      <td>47.241457</td>\n",
              "      <td>0.035874</td>\n",
              "      <td>0.074962</td>\n",
              "      <td>0.000000e+00</td>\n",
              "      <td>0.000000</td>\n",
              "      <td>0.0</td>\n",
              "      <td>0.0</td>\n",
              "      <td>0.0</td>\n",
              "      <td>0.0</td>\n",
              "      <td>37.5237</td>\n",
              "      <td>126.909</td>\n",
              "      <td>17.2956</td>\n",
              "      <td>0.2223</td>\n",
              "      <td>4438.373535</td>\n",
              "      <td>28.6</td>\n",
              "    </tr>\n",
              "    <tr>\n",
              "      <th>7749</th>\n",
              "      <td>25.0</td>\n",
              "      <td>23.2</td>\n",
              "      <td>17.4</td>\n",
              "      <td>22.933014</td>\n",
              "      <td>77.243744</td>\n",
              "      <td>27.939516</td>\n",
              "      <td>18.522965</td>\n",
              "      <td>7.289264</td>\n",
              "      <td>9.090034</td>\n",
              "      <td>0.048954</td>\n",
              "      <td>0.059869</td>\n",
              "      <td>0.000000e+00</td>\n",
              "      <td>0.000796</td>\n",
              "      <td>0.0</td>\n",
              "      <td>0.0</td>\n",
              "      <td>0.0</td>\n",
              "      <td>0.0</td>\n",
              "      <td>37.5237</td>\n",
              "      <td>126.970</td>\n",
              "      <td>19.5844</td>\n",
              "      <td>0.2713</td>\n",
              "      <td>4451.345215</td>\n",
              "      <td>27.8</td>\n",
              "    </tr>\n",
              "  </tbody>\n",
              "</table>\n",
              "<p>7588 rows × 23 columns</p>\n",
              "</div>"
            ],
            "text/plain": [
              "      station  Present_Tmax  Present_Tmin  ...   Slope  Solar radiation  Next_Tmax\n",
              "0         1.0          28.7          21.4  ...  2.7850      5992.895996       29.1\n",
              "1         2.0          31.9          21.6  ...  0.5141      5869.312500       30.5\n",
              "2         3.0          31.6          23.3  ...  0.2661      5863.555664       31.1\n",
              "3         4.0          32.0          23.4  ...  2.5348      5856.964844       31.7\n",
              "4         5.0          31.4          21.9  ...  0.5055      5859.552246       31.2\n",
              "...       ...           ...           ...  ...     ...              ...        ...\n",
              "7745     21.0          23.1          17.8  ...  0.5721      4456.024414       27.6\n",
              "7746     22.0          22.5          17.4  ...  0.1332      4441.803711       28.0\n",
              "7747     23.0          23.3          17.1  ...  0.1554      4443.313965       28.3\n",
              "7748     24.0          23.3          17.7  ...  0.2223      4438.373535       28.6\n",
              "7749     25.0          23.2          17.4  ...  0.2713      4451.345215       27.8\n",
              "\n",
              "[7588 rows x 23 columns]"
            ]
          },
          "metadata": {
            "tags": []
          },
          "execution_count": 3
        }
      ]
    },
    {
      "cell_type": "markdown",
      "metadata": {
        "id": "0FtzocuDHQ2r",
        "colab_type": "text"
      },
      "source": [
        "Separando as colunas do DataFrame em dados de entrada e dados de saída:"
      ]
    },
    {
      "cell_type": "code",
      "metadata": {
        "id": "DTZG8EmyIG_o",
        "colab_type": "code",
        "colab": {
          "base_uri": "https://localhost:8080/",
          "height": 35
        },
        "outputId": "84cbc02e-9c7b-4a2e-8c8b-9280a88eb850"
      },
      "source": [
        "import numpy as np\n",
        "\n",
        "entradas = df.drop([\"Next_Tmax\"], axis=1).to_numpy()\n",
        "saidas = df[\"Next_Tmax\"].to_numpy()\n",
        "entradas.shape, saidas.shape"
      ],
      "execution_count": 4,
      "outputs": [
        {
          "output_type": "execute_result",
          "data": {
            "text/plain": [
              "((7588, 22), (7588,))"
            ]
          },
          "metadata": {
            "tags": []
          },
          "execution_count": 4
        }
      ]
    },
    {
      "cell_type": "markdown",
      "metadata": {
        "id": "-Beyn8UIJMAx",
        "colab_type": "text"
      },
      "source": [
        "# Execuções\n",
        "\n",
        "Para cada um dos regressores abaixo aplique Validação Cruzada do tipo *5-fold*. Utilize RMSE como medida de erro de todos os regressores. A busca de hiperparametros será aleatória. O problema especificará um intervalo para hiperparametro. Use uma distribuição uniforme para escolher valores neste intervalo.\n",
        "\n",
        "Reporte o valor do RMSE da melhor combinação de hiperparametros e o valor dos hiperparametros encontrados para cada regressor. Também reporte os valores do RMSE para os regressores do Scikit-learn com os valores padrão de hiperparâmetros."
      ]
    },
    {
      "cell_type": "markdown",
      "metadata": {
        "id": "Jkogz3-5D-g0",
        "colab_type": "text"
      },
      "source": [
        "## Regressão Linear\n",
        "Não tem hiperparâmetro. Portanto, foi implementada apenas a validação cruzada.\n",
        "\n"
      ]
    },
    {
      "cell_type": "code",
      "metadata": {
        "id": "RV8XaB4cL9H-",
        "colab_type": "code",
        "colab": {
          "base_uri": "https://localhost:8080/",
          "height": 53
        },
        "outputId": "d3676f8c-3425-4a89-e5e4-b1b533ff318a"
      },
      "source": [
        "from sklearn.model_selection import cross_validate\n",
        "from sklearn.linear_model import LinearRegression\n",
        "import numpy as np\n",
        "\n",
        "resultados = cross_validate(LinearRegression(), entradas, saidas, cv=5, scoring=\"neg_root_mean_squared_error\")\n",
        "resultados = resultados['test_score']\n",
        "print(\"RMSE: %s\" % str(resultados))\n",
        "print(\"RMSE médio: %s\" % str(np.mean(resultados)))"
      ],
      "execution_count": 5,
      "outputs": [
        {
          "output_type": "stream",
          "text": [
            "RMSE: [-1.45728827 -1.63874781 -1.45413013 -1.62441096 -1.7131539 ]\n",
            "RMSE médio: -1.5775462124225534\n"
          ],
          "name": "stdout"
        }
      ]
    },
    {
      "cell_type": "markdown",
      "metadata": {
        "id": "sbf3zeGfnCEI",
        "colab_type": "text"
      },
      "source": [
        "## Linear com regularização L2\n",
        "\n",
        "Realizar a busca dos seguintes hiperparâmetros:\n",
        "* alpha: 10 números aleatórios entre 10<sup>-3</sup> e 10<sup>3</sup>, uniforme no expoente."
      ]
    },
    {
      "cell_type": "code",
      "metadata": {
        "id": "uDWCObz0rN44",
        "colab_type": "code",
        "colab": {
          "base_uri": "https://localhost:8080/",
          "height": 143
        },
        "outputId": "1d460bc6-0728-40e1-d717-95718002f045"
      },
      "source": [
        "from sklearn.model_selection import RandomizedSearchCV, cross_validate\n",
        "from scipy.stats import loguniform\n",
        "from sklearn.linear_model import Ridge\n",
        "import numpy as np\n",
        "\n",
        "# Definindo o intervalo dos parâmetros a serem utilizados\n",
        "parametros = {\n",
        "    'alpha': loguniform(10**-3, 10**3)\n",
        "}\n",
        "\n",
        "# Buscando valor do hiperparâmetro alpha\n",
        "randomSCV = RandomizedSearchCV(Ridge(), parametros, scoring=\"neg_root_mean_squared_error\", cv=5, n_iter=10)\n",
        "randomSCV.fit(entradas, saidas)\n",
        "alpha = randomSCV.best_params_['alpha']\n",
        "\n",
        "# Treinando o regressor novamente com o valor encontrado de alpha\n",
        "resultados = cross_validate(Ridge(alpha=alpha), entradas, saidas, cv=5, scoring=\"neg_root_mean_squared_error\")\n",
        "resultados = resultados['test_score']\n",
        "print(\"Resultado com alpha = %.6f\" % alpha)\n",
        "print(\" RMSE: %s\" % str(resultados))\n",
        "print(\" RMSE médio: %s\" % str(np.mean(resultados)))\n",
        "\n",
        "# Treinando o regressor novamente com o valor padrão de alpha\n",
        "resultados = cross_validate(Ridge(), entradas, saidas, cv=5, scoring=\"neg_root_mean_squared_error\")\n",
        "resultados = resultados['test_score']\n",
        "print(\"\\nResultado com alpha padrão\")\n",
        "print(\" RMSE: %s\" % str(resultados))\n",
        "print(\" RMSE médio: %s\" % str(np.mean(resultados)))"
      ],
      "execution_count": 6,
      "outputs": [
        {
          "output_type": "stream",
          "text": [
            "Resultado com alpha = 97.199360\n",
            " RMSE: [-1.4510112  -1.65285168 -1.45356891 -1.56112607 -1.73071834]\n",
            " RMSE médio: -1.5698552404927948\n",
            "\n",
            "Resultado com alpha padrão\n",
            " RMSE: [-1.45692381 -1.63871536 -1.45400992 -1.62296016 -1.71346818]\n",
            " RMSE médio: -1.577215484134355\n"
          ],
          "name": "stdout"
        }
      ]
    },
    {
      "cell_type": "markdown",
      "metadata": {
        "id": "G-8iyJtVsD8o",
        "colab_type": "text"
      },
      "source": [
        "## Linear com regularização L1\n",
        "\n",
        "Realizar a busca dos seguintes hiperparâmetros:\n",
        "* alpha: 10 números aleatórios entre 10<sup>-3</sup> e 10<sup>3</sup>, uniforme no expoente."
      ]
    },
    {
      "cell_type": "code",
      "metadata": {
        "id": "qsi1pmsCsPSA",
        "colab_type": "code",
        "colab": {
          "base_uri": "https://localhost:8080/",
          "height": 143
        },
        "outputId": "41e74b82-d622-4b72-bdea-b53bc3c698d9"
      },
      "source": [
        "from sklearn.model_selection import RandomizedSearchCV, cross_validate\n",
        "from scipy.stats import loguniform\n",
        "from sklearn.linear_model import Lasso\n",
        "import numpy as np\n",
        "\n",
        "# Definindo o intervalo dos parâmetros a serem utilizados\n",
        "parametros = {\n",
        "    'alpha': loguniform(10**-3, 10**3)\n",
        "}\n",
        "\n",
        "# Buscando valor do hiperparâmetro alpha\n",
        "randomSCV = RandomizedSearchCV(Lasso(), parametros, scoring=\"neg_root_mean_squared_error\", cv=5, n_iter=10)\n",
        "randomSCV.fit(entradas, saidas)\n",
        "alpha = randomSCV.best_params_['alpha']\n",
        "\n",
        "# Treinando o regressor novamente com o valor encontrado de alpha\n",
        "resultados = cross_validate(Lasso(alpha=alpha), entradas, saidas, cv=5, scoring=\"neg_root_mean_squared_error\")\n",
        "resultados = resultados['test_score']\n",
        "print(\"Resultado com alpha = %.6f\" % alpha)\n",
        "print(\" RMSE: %s\" % str(resultados))\n",
        "print(\" RMSE médio: %s\" % str(np.mean(resultados)))\n",
        "\n",
        "# Treinando o regressor novamente com o valor padrão de alpha\n",
        "resultados = cross_validate(Lasso(), entradas, saidas, cv=5, scoring=\"neg_root_mean_squared_error\")\n",
        "resultados = resultados['test_score']\n",
        "print(\"\\nResultado com alpha padrão\")\n",
        "print(\" RMSE: %s\" % str(resultados))\n",
        "print(\" RMSE médio: %s\" % str(np.mean(resultados)))"
      ],
      "execution_count": 7,
      "outputs": [
        {
          "output_type": "stream",
          "text": [
            "Resultado com alpha = 0.003217\n",
            " RMSE: [-1.4526815  -1.64292186 -1.45531993 -1.61230746 -1.71873945]\n",
            " RMSE médio: -1.5763940416015714\n",
            "\n",
            "Resultado com alpha padrão\n",
            " RMSE: [-1.57306112 -1.74311863 -1.62045258 -1.88341496 -1.78159446]\n",
            " RMSE médio: -1.7203283486138212\n"
          ],
          "name": "stdout"
        }
      ]
    },
    {
      "cell_type": "markdown",
      "metadata": {
        "id": "3rAuAtSqtat_",
        "colab_type": "text"
      },
      "source": [
        "## SVM Linear\n",
        "\n",
        "Selecione 10 pares aleatórios dos seguintes hiperparâmetros:\n",
        "\n",
        "* Use epsilon = 0.1 ou 0.3;\n",
        "* Use C entre 2<sup>-5</sup> e 2<sup>15</sup>, uniforme no expoente."
      ]
    },
    {
      "cell_type": "code",
      "metadata": {
        "id": "KvpwYHT3t9um",
        "colab_type": "code",
        "colab": {
          "base_uri": "https://localhost:8080/",
          "height": 143
        },
        "outputId": "3832af58-0c80-4a11-ac6e-28a88079787d"
      },
      "source": [
        "from sklearn.model_selection import RandomizedSearchCV, cross_validate\n",
        "from scipy.stats import loguniform\n",
        "from sklearn.svm import LinearSVR\n",
        "from sklearn.exceptions import ConvergenceWarning\n",
        "from warnings import simplefilter\n",
        "import numpy as np\n",
        "\n",
        "# Ignorando warnings no treinamento dos regressores\n",
        "simplefilter(\"ignore\", category=ConvergenceWarning)\n",
        "\n",
        "# Definindo o intervalo dos parâmetros a serem utilizados\n",
        "parametros = {\n",
        "    'epsilon': [0.1, 0.3],\n",
        "    'C': loguniform(2**0, 2**15)\n",
        "}\n",
        "\n",
        "# Buscando valor dos hiperparâmetros\n",
        "randomSCV = RandomizedSearchCV(LinearSVR(), parametros, scoring=\"neg_root_mean_squared_error\", cv=5, n_iter=10)\n",
        "randomSCV.fit(entradas, saidas)\n",
        "epsilon = randomSCV.best_params_['epsilon']\n",
        "C = randomSCV.best_params_['C']\n",
        "\n",
        "# Treinando o regressor novamente com o valor encontrado de alpha\n",
        "resultados = cross_validate(LinearSVR(epsilon=epsilon, C=C), entradas, saidas, cv=5, scoring=\"neg_root_mean_squared_error\")\n",
        "resultados = resultados['test_score']\n",
        "print(\"Resultado com epsilon = %.6f e C = %.6f\" % (epsilon, C))\n",
        "print(\" RMSE: %s\" % str(resultados))\n",
        "print(\" RMSE médio: %s\" % str(np.mean(resultados)))\n",
        "\n",
        "# Treinando o regressor novamente com os valores padrão\n",
        "resultados = cross_validate(LinearSVR(), entradas, saidas, cv=5, scoring=\"neg_root_mean_squared_error\")\n",
        "resultados = resultados['test_score']\n",
        "print(\"\\nResultado com valores padrão\")\n",
        "print(\" RMSE: %s\" % str(resultados))\n",
        "print(\" RMSE médio: %s\" % str(np.mean(resultados)))"
      ],
      "execution_count": 8,
      "outputs": [
        {
          "output_type": "stream",
          "text": [
            "Resultado com epsilon = 0.300000 e C = 31.740697\n",
            " RMSE: [-1.39461159 -2.01711009 -1.61608604 -3.83523288 -1.86827716]\n",
            " RMSE médio: -2.1462635516920114\n",
            "\n",
            "Resultado com valores padrão\n",
            " RMSE: [-1.38808002 -3.17861771 -1.59195295 -1.87725841 -2.43244924]\n",
            " RMSE médio: -2.0936716662038193\n"
          ],
          "name": "stdout"
        }
      ]
    },
    {
      "cell_type": "markdown",
      "metadata": {
        "id": "VfjFrw383EIU",
        "colab_type": "text"
      },
      "source": [
        "## SVM com kernel RBF\n",
        "\n",
        "Selecione 10 trincas aleatórias dos seguintes hiperparâmetros:\n",
        "\n",
        "* Use epsilon = 0.1 ou 0.3;\n",
        "* Use C entre 2<sup>-5</sup> e 2<sup>15</sup>, uniforme no expoente;\n",
        "* Use gamma entre 2<sup>-9</sup> e 2<sup>32</sup>."
      ]
    },
    {
      "cell_type": "code",
      "metadata": {
        "id": "-4Y92DWp4BUa",
        "colab_type": "code",
        "colab": {
          "base_uri": "https://localhost:8080/",
          "height": 143
        },
        "outputId": "bf12476c-2414-416e-efa9-23ee5cdc79e8"
      },
      "source": [
        "from sklearn.model_selection import RandomizedSearchCV, cross_validate\n",
        "from scipy.stats import loguniform\n",
        "from sklearn.svm import SVR\n",
        "from sklearn.exceptions import ConvergenceWarning\n",
        "from warnings import simplefilter\n",
        "import numpy as np\n",
        "\n",
        "# Ignorando warnings no treinamento dos regressores\n",
        "simplefilter(\"ignore\", category=ConvergenceWarning)\n",
        "\n",
        "# Definindo o intervalo dos parâmetros a serem utilizados\n",
        "parametros = {\n",
        "    'epsilon': [0.1, 0.3],\n",
        "    'C': loguniform(2**-5, 2**15),\n",
        "    'gamma': loguniform(2**-9, 2**32)\n",
        "}\n",
        "\n",
        "# Buscando valor dos hiperparâmetros\n",
        "randomSCV = RandomizedSearchCV(SVR(kernel=\"rbf\"), parametros, scoring=\"neg_root_mean_squared_error\", cv=5, n_iter=10)\n",
        "randomSCV.fit(entradas, saidas)\n",
        "epsilon = randomSCV.best_params_['epsilon']\n",
        "C = randomSCV.best_params_['C']\n",
        "gamma = randomSCV.best_params_['gamma']\n",
        "\n",
        "# Treinando o regressor novamente com o valor encontrado de alpha\n",
        "resultados = cross_validate(SVR(kernel=\"rbf\", epsilon=epsilon, C=C, gamma=gamma), entradas, saidas, cv=5, scoring=\"neg_root_mean_squared_error\")\n",
        "resultados = resultados['test_score']\n",
        "print(\"Resultado com epsilon = %.6f, C = %.6f e gamma = %.6f\" % (epsilon, C, gamma))\n",
        "print(\" RMSE: %s\" % str(resultados))\n",
        "print(\" RMSE médio: %s\" % str(np.mean(resultados)))\n",
        "\n",
        "# Treinando o regressor novamente com os valores padrão\n",
        "resultados = cross_validate(SVR(kernel=\"rbf\"), entradas, saidas, cv=5, scoring=\"neg_root_mean_squared_error\")\n",
        "resultados = resultados['test_score']\n",
        "print(\"\\nResultado com valores padrão\")\n",
        "print(\" RMSE: %s\" % str(resultados))\n",
        "print(\" RMSE médio: %s\" % str(np.mean(resultados)))"
      ],
      "execution_count": 9,
      "outputs": [
        {
          "output_type": "stream",
          "text": [
            "Resultado com epsilon = 0.300000, C = 969.012026 e gamma = 631588977.429795\n",
            " RMSE: [-2.67668659 -2.96275349 -2.65650505 -3.94453807 -3.26944309]\n",
            " RMSE médio: -3.1019852583236855\n",
            "\n",
            "Resultado com valores padrão\n",
            " RMSE: [-2.73602099 -3.17623114 -2.56503916 -3.77497041 -3.31859768]\n",
            " RMSE médio: -3.114171876069416\n"
          ],
          "name": "stdout"
        }
      ]
    }
  ]
}