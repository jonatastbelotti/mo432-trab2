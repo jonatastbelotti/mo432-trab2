{
  "nbformat": 4,
  "nbformat_minor": 0,
  "metadata": {
    "colab": {
      "name": "Trab 2",
      "provenance": [],
      "authorship_tag": "ABX9TyOqyEe+iOQhx1gCvbZ8dIGZ",
      "include_colab_link": true
    },
    "kernelspec": {
      "name": "python3",
      "display_name": "Python 3"
    },
    "accelerator": "GPU"
  },
  "cells": [
    {
      "cell_type": "markdown",
      "metadata": {
        "id": "view-in-github",
        "colab_type": "text"
      },
      "source": [
        "<a href=\"https://colab.research.google.com/github/jonatastbelotti/mo432-trab2/blob/master/Trab_2.ipynb\" target=\"_parent\"><img src=\"https://colab.research.google.com/assets/colab-badge.svg\" alt=\"Open In Colab\"/></a>"
      ]
    },
    {
      "cell_type": "markdown",
      "metadata": {
        "id": "zNAiAKWBCK6h",
        "colab_type": "text"
      },
      "source": [
        "Jônatas Trabuco Belotti</br>\n",
        "RA: 230260</br>\n",
        "jonatas.t.belotti@hotmail.com"
      ]
    },
    {
      "cell_type": "markdown",
      "metadata": {
        "id": "He7wZuPWBAi7",
        "colab_type": "text"
      },
      "source": [
        "# Leia\n",
        "Leia o arquivo Bias_correction_ucl.csv. O atributo de saída é Next_Tmax (a temperatura máxima no próximo dia). A derscriçao dos dados esta [aqui](https://archive.ics.uci.edu/ml/datasets/Bias+correction+of+numerical+prediction+model+temperature+forecast):\n",
        "\n",
        "\n",
        "* Remova a coluna Date;\n",
        "* Remova a coluna Next_Tmin (coluna 25). O objetivo original dos dados é prever tanto Next_Tmin quanto Next_tmax. Mas nos so vamos usar o Next_Tmax. Mas não queremos que o valor do Next_Tmin influencie nessa previsão;\n",
        "* remova as linhas que tem valor faltante. Das 7752 linhas originais sobram 7588.\n",
        "\n"
      ]
    },
    {
      "cell_type": "code",
      "metadata": {
        "id": "3haxON3EDBRg",
        "colab_type": "code",
        "colab": {
          "base_uri": "https://localhost:8080/",
          "height": 456
        },
        "outputId": "d30c70fb-3c42-4987-eb26-8c037d7c4ee6"
      },
      "source": [
        "import pandas as pd\n",
        "\n",
        "df = pd.read_csv(\"/content/Bias_correction_ucl.csv\")\n",
        "df = df.drop([\"Date\", \"Next_Tmin\"], axis=1) # Remove colunas\n",
        "df = df.dropna() # Remove toda linha com pelo menos um valor faltante\n",
        "df"
      ],
      "execution_count": 3,
      "outputs": [
        {
          "output_type": "execute_result",
          "data": {
            "text/html": [
              "<div>\n",
              "<style scoped>\n",
              "    .dataframe tbody tr th:only-of-type {\n",
              "        vertical-align: middle;\n",
              "    }\n",
              "\n",
              "    .dataframe tbody tr th {\n",
              "        vertical-align: top;\n",
              "    }\n",
              "\n",
              "    .dataframe thead th {\n",
              "        text-align: right;\n",
              "    }\n",
              "</style>\n",
              "<table border=\"1\" class=\"dataframe\">\n",
              "  <thead>\n",
              "    <tr style=\"text-align: right;\">\n",
              "      <th></th>\n",
              "      <th>station</th>\n",
              "      <th>Present_Tmax</th>\n",
              "      <th>Present_Tmin</th>\n",
              "      <th>LDAPS_RHmin</th>\n",
              "      <th>LDAPS_RHmax</th>\n",
              "      <th>LDAPS_Tmax_lapse</th>\n",
              "      <th>LDAPS_Tmin_lapse</th>\n",
              "      <th>LDAPS_WS</th>\n",
              "      <th>LDAPS_LH</th>\n",
              "      <th>LDAPS_CC1</th>\n",
              "      <th>LDAPS_CC2</th>\n",
              "      <th>LDAPS_CC3</th>\n",
              "      <th>LDAPS_CC4</th>\n",
              "      <th>LDAPS_PPT1</th>\n",
              "      <th>LDAPS_PPT2</th>\n",
              "      <th>LDAPS_PPT3</th>\n",
              "      <th>LDAPS_PPT4</th>\n",
              "      <th>lat</th>\n",
              "      <th>lon</th>\n",
              "      <th>DEM</th>\n",
              "      <th>Slope</th>\n",
              "      <th>Solar radiation</th>\n",
              "      <th>Next_Tmax</th>\n",
              "    </tr>\n",
              "  </thead>\n",
              "  <tbody>\n",
              "    <tr>\n",
              "      <th>0</th>\n",
              "      <td>1.0</td>\n",
              "      <td>28.7</td>\n",
              "      <td>21.4</td>\n",
              "      <td>58.255688</td>\n",
              "      <td>91.116364</td>\n",
              "      <td>28.074101</td>\n",
              "      <td>23.006936</td>\n",
              "      <td>6.818887</td>\n",
              "      <td>69.451805</td>\n",
              "      <td>0.233947</td>\n",
              "      <td>0.203896</td>\n",
              "      <td>1.616969e-01</td>\n",
              "      <td>0.130928</td>\n",
              "      <td>0.0</td>\n",
              "      <td>0.0</td>\n",
              "      <td>0.0</td>\n",
              "      <td>0.0</td>\n",
              "      <td>37.6046</td>\n",
              "      <td>126.991</td>\n",
              "      <td>212.3350</td>\n",
              "      <td>2.7850</td>\n",
              "      <td>5992.895996</td>\n",
              "      <td>29.1</td>\n",
              "    </tr>\n",
              "    <tr>\n",
              "      <th>1</th>\n",
              "      <td>2.0</td>\n",
              "      <td>31.9</td>\n",
              "      <td>21.6</td>\n",
              "      <td>52.263397</td>\n",
              "      <td>90.604721</td>\n",
              "      <td>29.850689</td>\n",
              "      <td>24.035009</td>\n",
              "      <td>5.691890</td>\n",
              "      <td>51.937448</td>\n",
              "      <td>0.225508</td>\n",
              "      <td>0.251771</td>\n",
              "      <td>1.594441e-01</td>\n",
              "      <td>0.127727</td>\n",
              "      <td>0.0</td>\n",
              "      <td>0.0</td>\n",
              "      <td>0.0</td>\n",
              "      <td>0.0</td>\n",
              "      <td>37.6046</td>\n",
              "      <td>127.032</td>\n",
              "      <td>44.7624</td>\n",
              "      <td>0.5141</td>\n",
              "      <td>5869.312500</td>\n",
              "      <td>30.5</td>\n",
              "    </tr>\n",
              "    <tr>\n",
              "      <th>2</th>\n",
              "      <td>3.0</td>\n",
              "      <td>31.6</td>\n",
              "      <td>23.3</td>\n",
              "      <td>48.690479</td>\n",
              "      <td>83.973587</td>\n",
              "      <td>30.091292</td>\n",
              "      <td>24.565633</td>\n",
              "      <td>6.138224</td>\n",
              "      <td>20.573050</td>\n",
              "      <td>0.209344</td>\n",
              "      <td>0.257469</td>\n",
              "      <td>2.040915e-01</td>\n",
              "      <td>0.142125</td>\n",
              "      <td>0.0</td>\n",
              "      <td>0.0</td>\n",
              "      <td>0.0</td>\n",
              "      <td>0.0</td>\n",
              "      <td>37.5776</td>\n",
              "      <td>127.058</td>\n",
              "      <td>33.3068</td>\n",
              "      <td>0.2661</td>\n",
              "      <td>5863.555664</td>\n",
              "      <td>31.1</td>\n",
              "    </tr>\n",
              "    <tr>\n",
              "      <th>3</th>\n",
              "      <td>4.0</td>\n",
              "      <td>32.0</td>\n",
              "      <td>23.4</td>\n",
              "      <td>58.239788</td>\n",
              "      <td>96.483688</td>\n",
              "      <td>29.704629</td>\n",
              "      <td>23.326177</td>\n",
              "      <td>5.650050</td>\n",
              "      <td>65.727144</td>\n",
              "      <td>0.216372</td>\n",
              "      <td>0.226002</td>\n",
              "      <td>1.611574e-01</td>\n",
              "      <td>0.134249</td>\n",
              "      <td>0.0</td>\n",
              "      <td>0.0</td>\n",
              "      <td>0.0</td>\n",
              "      <td>0.0</td>\n",
              "      <td>37.6450</td>\n",
              "      <td>127.022</td>\n",
              "      <td>45.7160</td>\n",
              "      <td>2.5348</td>\n",
              "      <td>5856.964844</td>\n",
              "      <td>31.7</td>\n",
              "    </tr>\n",
              "    <tr>\n",
              "      <th>4</th>\n",
              "      <td>5.0</td>\n",
              "      <td>31.4</td>\n",
              "      <td>21.9</td>\n",
              "      <td>56.174095</td>\n",
              "      <td>90.155128</td>\n",
              "      <td>29.113934</td>\n",
              "      <td>23.486480</td>\n",
              "      <td>5.735004</td>\n",
              "      <td>107.965535</td>\n",
              "      <td>0.151407</td>\n",
              "      <td>0.249995</td>\n",
              "      <td>1.788925e-01</td>\n",
              "      <td>0.170021</td>\n",
              "      <td>0.0</td>\n",
              "      <td>0.0</td>\n",
              "      <td>0.0</td>\n",
              "      <td>0.0</td>\n",
              "      <td>37.5507</td>\n",
              "      <td>127.135</td>\n",
              "      <td>35.0380</td>\n",
              "      <td>0.5055</td>\n",
              "      <td>5859.552246</td>\n",
              "      <td>31.2</td>\n",
              "    </tr>\n",
              "    <tr>\n",
              "      <th>...</th>\n",
              "      <td>...</td>\n",
              "      <td>...</td>\n",
              "      <td>...</td>\n",
              "      <td>...</td>\n",
              "      <td>...</td>\n",
              "      <td>...</td>\n",
              "      <td>...</td>\n",
              "      <td>...</td>\n",
              "      <td>...</td>\n",
              "      <td>...</td>\n",
              "      <td>...</td>\n",
              "      <td>...</td>\n",
              "      <td>...</td>\n",
              "      <td>...</td>\n",
              "      <td>...</td>\n",
              "      <td>...</td>\n",
              "      <td>...</td>\n",
              "      <td>...</td>\n",
              "      <td>...</td>\n",
              "      <td>...</td>\n",
              "      <td>...</td>\n",
              "      <td>...</td>\n",
              "      <td>...</td>\n",
              "    </tr>\n",
              "    <tr>\n",
              "      <th>7745</th>\n",
              "      <td>21.0</td>\n",
              "      <td>23.1</td>\n",
              "      <td>17.8</td>\n",
              "      <td>24.688997</td>\n",
              "      <td>78.261383</td>\n",
              "      <td>27.812697</td>\n",
              "      <td>18.303014</td>\n",
              "      <td>6.603253</td>\n",
              "      <td>9.614074</td>\n",
              "      <td>0.052902</td>\n",
              "      <td>0.030169</td>\n",
              "      <td>0.000000e+00</td>\n",
              "      <td>0.004380</td>\n",
              "      <td>0.0</td>\n",
              "      <td>0.0</td>\n",
              "      <td>0.0</td>\n",
              "      <td>0.0</td>\n",
              "      <td>37.5507</td>\n",
              "      <td>127.040</td>\n",
              "      <td>26.2980</td>\n",
              "      <td>0.5721</td>\n",
              "      <td>4456.024414</td>\n",
              "      <td>27.6</td>\n",
              "    </tr>\n",
              "    <tr>\n",
              "      <th>7746</th>\n",
              "      <td>22.0</td>\n",
              "      <td>22.5</td>\n",
              "      <td>17.4</td>\n",
              "      <td>30.094858</td>\n",
              "      <td>83.690018</td>\n",
              "      <td>26.704905</td>\n",
              "      <td>17.814038</td>\n",
              "      <td>5.768083</td>\n",
              "      <td>82.146707</td>\n",
              "      <td>0.066461</td>\n",
              "      <td>0.024518</td>\n",
              "      <td>5.850000e-07</td>\n",
              "      <td>0.017678</td>\n",
              "      <td>0.0</td>\n",
              "      <td>0.0</td>\n",
              "      <td>0.0</td>\n",
              "      <td>0.0</td>\n",
              "      <td>37.5102</td>\n",
              "      <td>127.086</td>\n",
              "      <td>21.9668</td>\n",
              "      <td>0.1332</td>\n",
              "      <td>4441.803711</td>\n",
              "      <td>28.0</td>\n",
              "    </tr>\n",
              "    <tr>\n",
              "      <th>7747</th>\n",
              "      <td>23.0</td>\n",
              "      <td>23.3</td>\n",
              "      <td>17.1</td>\n",
              "      <td>26.741310</td>\n",
              "      <td>78.869858</td>\n",
              "      <td>26.352081</td>\n",
              "      <td>18.775678</td>\n",
              "      <td>6.148918</td>\n",
              "      <td>72.058294</td>\n",
              "      <td>0.030034</td>\n",
              "      <td>0.081035</td>\n",
              "      <td>0.000000e+00</td>\n",
              "      <td>0.000000</td>\n",
              "      <td>0.0</td>\n",
              "      <td>0.0</td>\n",
              "      <td>0.0</td>\n",
              "      <td>0.0</td>\n",
              "      <td>37.5372</td>\n",
              "      <td>126.891</td>\n",
              "      <td>15.5876</td>\n",
              "      <td>0.1554</td>\n",
              "      <td>4443.313965</td>\n",
              "      <td>28.3</td>\n",
              "    </tr>\n",
              "    <tr>\n",
              "      <th>7748</th>\n",
              "      <td>24.0</td>\n",
              "      <td>23.3</td>\n",
              "      <td>17.7</td>\n",
              "      <td>24.040634</td>\n",
              "      <td>77.294975</td>\n",
              "      <td>27.010193</td>\n",
              "      <td>18.733519</td>\n",
              "      <td>6.542819</td>\n",
              "      <td>47.241457</td>\n",
              "      <td>0.035874</td>\n",
              "      <td>0.074962</td>\n",
              "      <td>0.000000e+00</td>\n",
              "      <td>0.000000</td>\n",
              "      <td>0.0</td>\n",
              "      <td>0.0</td>\n",
              "      <td>0.0</td>\n",
              "      <td>0.0</td>\n",
              "      <td>37.5237</td>\n",
              "      <td>126.909</td>\n",
              "      <td>17.2956</td>\n",
              "      <td>0.2223</td>\n",
              "      <td>4438.373535</td>\n",
              "      <td>28.6</td>\n",
              "    </tr>\n",
              "    <tr>\n",
              "      <th>7749</th>\n",
              "      <td>25.0</td>\n",
              "      <td>23.2</td>\n",
              "      <td>17.4</td>\n",
              "      <td>22.933014</td>\n",
              "      <td>77.243744</td>\n",
              "      <td>27.939516</td>\n",
              "      <td>18.522965</td>\n",
              "      <td>7.289264</td>\n",
              "      <td>9.090034</td>\n",
              "      <td>0.048954</td>\n",
              "      <td>0.059869</td>\n",
              "      <td>0.000000e+00</td>\n",
              "      <td>0.000796</td>\n",
              "      <td>0.0</td>\n",
              "      <td>0.0</td>\n",
              "      <td>0.0</td>\n",
              "      <td>0.0</td>\n",
              "      <td>37.5237</td>\n",
              "      <td>126.970</td>\n",
              "      <td>19.5844</td>\n",
              "      <td>0.2713</td>\n",
              "      <td>4451.345215</td>\n",
              "      <td>27.8</td>\n",
              "    </tr>\n",
              "  </tbody>\n",
              "</table>\n",
              "<p>7588 rows × 23 columns</p>\n",
              "</div>"
            ],
            "text/plain": [
              "      station  Present_Tmax  Present_Tmin  ...   Slope  Solar radiation  Next_Tmax\n",
              "0         1.0          28.7          21.4  ...  2.7850      5992.895996       29.1\n",
              "1         2.0          31.9          21.6  ...  0.5141      5869.312500       30.5\n",
              "2         3.0          31.6          23.3  ...  0.2661      5863.555664       31.1\n",
              "3         4.0          32.0          23.4  ...  2.5348      5856.964844       31.7\n",
              "4         5.0          31.4          21.9  ...  0.5055      5859.552246       31.2\n",
              "...       ...           ...           ...  ...     ...              ...        ...\n",
              "7745     21.0          23.1          17.8  ...  0.5721      4456.024414       27.6\n",
              "7746     22.0          22.5          17.4  ...  0.1332      4441.803711       28.0\n",
              "7747     23.0          23.3          17.1  ...  0.1554      4443.313965       28.3\n",
              "7748     24.0          23.3          17.7  ...  0.2223      4438.373535       28.6\n",
              "7749     25.0          23.2          17.4  ...  0.2713      4451.345215       27.8\n",
              "\n",
              "[7588 rows x 23 columns]"
            ]
          },
          "metadata": {
            "tags": []
          },
          "execution_count": 3
        }
      ]
    },
    {
      "cell_type": "markdown",
      "metadata": {
        "id": "0FtzocuDHQ2r",
        "colab_type": "text"
      },
      "source": [
        "Separando as colunas do DataFrame em dados de entrada e dados de saída:"
      ]
    },
    {
      "cell_type": "code",
      "metadata": {
        "id": "DTZG8EmyIG_o",
        "colab_type": "code",
        "colab": {
          "base_uri": "https://localhost:8080/",
          "height": 35
        },
        "outputId": "f94c2fb2-1fd4-4177-ff24-9663a549b0e2"
      },
      "source": [
        "import numpy as np\n",
        "\n",
        "entradas = df.drop([\"Next_Tmax\"], axis=1).to_numpy()\n",
        "saidas = df[\"Next_Tmax\"].to_numpy()\n",
        "entradas.shape, saidas.shape"
      ],
      "execution_count": 4,
      "outputs": [
        {
          "output_type": "execute_result",
          "data": {
            "text/plain": [
              "((7588, 22), (7588,))"
            ]
          },
          "metadata": {
            "tags": []
          },
          "execution_count": 4
        }
      ]
    },
    {
      "cell_type": "markdown",
      "metadata": {
        "id": "-Beyn8UIJMAx",
        "colab_type": "text"
      },
      "source": [
        "# Execuções\n",
        "\n",
        "Para cada um dos regressores abaixo aplique Validação Cruzada do tipo *5-fold*. Utilize RMSE como medida de erro de todos os regressores. A busca de hiperparametros será aleatória. O problema especificará um intervalo para hiperparametro. Use uma distribuição uniforme para escolher valores neste intervalo.\n",
        "\n",
        "Reporte o valor do RMSE da melhor combinação de hiperparametros e o valor dos hiperparametros encontrados para cada regressor. Também reporte os valores do RMSE para os regressores do Scikit-learn com os valores padrão de hiperparâmetros."
      ]
    },
    {
      "cell_type": "markdown",
      "metadata": {
        "id": "Jkogz3-5D-g0",
        "colab_type": "text"
      },
      "source": [
        "## Regressão Linear\n",
        "Não tem hiperparâmetro. Portanto, foi implementada apenas a validação cruzada.\n",
        "\n"
      ]
    },
    {
      "cell_type": "code",
      "metadata": {
        "id": "RV8XaB4cL9H-",
        "colab_type": "code",
        "colab": {
          "base_uri": "https://localhost:8080/",
          "height": 53
        },
        "outputId": "e81c3b9d-fe2e-4332-d012-4001072f0f5b"
      },
      "source": [
        "from sklearn.model_selection import cross_validate\n",
        "from sklearn.linear_model import LinearRegression\n",
        "import numpy as np\n",
        "\n",
        "resultados = cross_validate(LinearRegression(), entradas, saidas, cv=5, scoring=\"neg_root_mean_squared_error\")\n",
        "resultados = resultados['test_score']\n",
        "print(\"RMSE: %s\" % str(resultados))\n",
        "print(\"RMSE médio: %s\" % str(np.mean(resultados)))"
      ],
      "execution_count": 3,
      "outputs": [
        {
          "output_type": "stream",
          "text": [
            "RMSE: [-1.45728827 -1.63874781 -1.45413013 -1.62441096 -1.7131539 ]\n",
            "RMSE médio: -1.5775462124225534\n"
          ],
          "name": "stdout"
        }
      ]
    },
    {
      "cell_type": "markdown",
      "metadata": {
        "id": "sbf3zeGfnCEI",
        "colab_type": "text"
      },
      "source": [
        "## Linear com regularização L2\n",
        "\n",
        "Realizar a busca dos seguintes hiperparâmetros:\n",
        "* alpha: 10 números aleatórios entre 10<sup>-3</sup> e 10<sup>3</sup>, uniforme no expoente."
      ]
    },
    {
      "cell_type": "code",
      "metadata": {
        "id": "uDWCObz0rN44",
        "colab_type": "code",
        "colab": {
          "base_uri": "https://localhost:8080/",
          "height": 143
        },
        "outputId": "89a296ca-4550-41ee-e827-d66ea309e488"
      },
      "source": [
        "from sklearn.model_selection import RandomizedSearchCV, cross_validate\n",
        "from scipy.stats import loguniform\n",
        "from sklearn.linear_model import Ridge\n",
        "import numpy as np\n",
        "\n",
        "# Definindo o intervalo dos parâmetros a serem utilizados\n",
        "parametros = {\n",
        "    'alpha': loguniform(10**-3, 10**3)\n",
        "}\n",
        "\n",
        "# Buscando valor do hiperparâmetro alpha\n",
        "randomSCV = RandomizedSearchCV(Ridge(), parametros, scoring=\"neg_root_mean_squared_error\", cv=5, n_iter=10)\n",
        "randomSCV.fit(entradas, saidas)\n",
        "alpha = randomSCV.best_params_['alpha']\n",
        "\n",
        "# Treinando o regressor novamente com o valor encontrado de alpha\n",
        "resultados = cross_validate(Ridge(alpha=alpha), entradas, saidas, cv=5, scoring=\"neg_root_mean_squared_error\")\n",
        "resultados = resultados['test_score']\n",
        "print(\"Resultado com alpha = %.6f\" % alpha)\n",
        "print(\" RMSE: %s\" % str(resultados))\n",
        "print(\" RMSE médio: %s\" % str(np.mean(resultados)))\n",
        "\n",
        "# Treinando o regressor novamente com o valor padrão de alpha\n",
        "resultados = cross_validate(Ridge(), entradas, saidas, cv=5, scoring=\"neg_root_mean_squared_error\")\n",
        "resultados = resultados['test_score']\n",
        "print(\"\\nResultado com alpha padrão\")\n",
        "print(\" RMSE: %s\" % str(resultados))\n",
        "print(\" RMSE médio: %s\" % str(np.mean(resultados)))"
      ],
      "execution_count": 4,
      "outputs": [
        {
          "output_type": "stream",
          "text": [
            "Resultado com alpha = 64.551793\n",
            " RMSE: [-1.45113144 -1.64728508 -1.45262686 -1.57550229 -1.72629472]\n",
            " RMSE médio: -1.57056808076174\n",
            "\n",
            "Resultado com alpha padrão\n",
            " RMSE: [-1.45692381 -1.63871536 -1.45400992 -1.62296016 -1.71346818]\n",
            " RMSE médio: -1.577215484134355\n"
          ],
          "name": "stdout"
        }
      ]
    },
    {
      "cell_type": "markdown",
      "metadata": {
        "id": "G-8iyJtVsD8o",
        "colab_type": "text"
      },
      "source": [
        "## Linear com regularização L1\n",
        "\n",
        "Realizar a busca dos seguintes hiperparâmetros:\n",
        "* alpha: 10 números aleatórios entre 10<sup>-3</sup> e 10<sup>3</sup>, uniforme no expoente."
      ]
    },
    {
      "cell_type": "code",
      "metadata": {
        "id": "qsi1pmsCsPSA",
        "colab_type": "code",
        "colab": {
          "base_uri": "https://localhost:8080/",
          "height": 143
        },
        "outputId": "11794c6d-4515-4e48-e862-401d596be398"
      },
      "source": [
        "from sklearn.model_selection import RandomizedSearchCV, cross_validate\n",
        "from scipy.stats import loguniform\n",
        "from sklearn.linear_model import Lasso\n",
        "import numpy as np\n",
        "\n",
        "# Definindo o intervalo dos parâmetros a serem utilizados\n",
        "parametros = {\n",
        "    'alpha': loguniform(10**-3, 10**3)\n",
        "}\n",
        "\n",
        "# Buscando valor do hiperparâmetro alpha\n",
        "randomSCV = RandomizedSearchCV(Lasso(), parametros, scoring=\"neg_root_mean_squared_error\", cv=5, n_iter=10)\n",
        "randomSCV.fit(entradas, saidas)\n",
        "alpha = randomSCV.best_params_['alpha']\n",
        "\n",
        "# Treinando o regressor novamente com o valor encontrado de alpha\n",
        "resultados = cross_validate(Lasso(alpha=alpha), entradas, saidas, cv=5, scoring=\"neg_root_mean_squared_error\")\n",
        "resultados = resultados['test_score']\n",
        "print(\"Resultado com alpha = %.6f\" % alpha)\n",
        "print(\" RMSE: %s\" % str(resultados))\n",
        "print(\" RMSE médio: %s\" % str(np.mean(resultados)))\n",
        "\n",
        "# Treinando o regressor novamente com o valor padrão de alpha\n",
        "resultados = cross_validate(Lasso(), entradas, saidas, cv=5, scoring=\"neg_root_mean_squared_error\")\n",
        "resultados = resultados['test_score']\n",
        "print(\"\\nResultado com alpha padrão\")\n",
        "print(\" RMSE: %s\" % str(resultados))\n",
        "print(\" RMSE médio: %s\" % str(np.mean(resultados)))"
      ],
      "execution_count": 5,
      "outputs": [
        {
          "output_type": "stream",
          "text": [
            "Resultado com alpha = 0.003830\n",
            " RMSE: [-1.45189959 -1.64367797 -1.45554496 -1.61095602 -1.71975018]\n",
            " RMSE médio: -1.5763657451362054\n",
            "\n",
            "Resultado com alpha padrão\n",
            " RMSE: [-1.57306112 -1.74311863 -1.62045258 -1.88341496 -1.78159446]\n",
            " RMSE médio: -1.7203283486138212\n"
          ],
          "name": "stdout"
        }
      ]
    },
    {
      "cell_type": "markdown",
      "metadata": {
        "id": "3rAuAtSqtat_",
        "colab_type": "text"
      },
      "source": [
        "## SVM Linear\n",
        "\n",
        "Selecione 10 pares aleatórios dos seguintes hiperparâmetros:\n",
        "\n",
        "* Use epsilon = 0.1 ou 0.3;\n",
        "* Use C entre 2<sup>-5</sup> e 2<sup>15</sup>, uniforme no expoente."
      ]
    },
    {
      "cell_type": "code",
      "metadata": {
        "id": "KvpwYHT3t9um",
        "colab_type": "code",
        "colab": {
          "base_uri": "https://localhost:8080/",
          "height": 143
        },
        "outputId": "118ff113-8b10-4d3a-a9c2-e4754615f5df"
      },
      "source": [
        "from sklearn.model_selection import RandomizedSearchCV, cross_validate\n",
        "from scipy.stats import loguniform\n",
        "from sklearn.svm import LinearSVR\n",
        "from sklearn.exceptions import ConvergenceWarning\n",
        "from warnings import simplefilter\n",
        "import numpy as np\n",
        "\n",
        "# Ignorando warnings no treinamento dos regressores\n",
        "simplefilter(\"ignore\", category=ConvergenceWarning)\n",
        "\n",
        "# Definindo o intervalo dos parâmetros a serem utilizados\n",
        "parametros = {\n",
        "    'epsilon': [0.1, 0.3],\n",
        "    'C': loguniform(2**0, 2**15)\n",
        "}\n",
        "\n",
        "# Buscando valor dos hiperparâmetros\n",
        "randomSCV = RandomizedSearchCV(LinearSVR(), parametros, scoring=\"neg_root_mean_squared_error\", cv=5, n_iter=10)\n",
        "randomSCV.fit(entradas, saidas)\n",
        "epsilon = randomSCV.best_params_['epsilon']\n",
        "C = randomSCV.best_params_['C']\n",
        "\n",
        "# Treinando o regressor novamente com o valores encontrados\n",
        "resultados = cross_validate(LinearSVR(epsilon=epsilon, C=C), entradas, saidas, cv=5, scoring=\"neg_root_mean_squared_error\")\n",
        "resultados = resultados['test_score']\n",
        "print(\"Resultado com epsilon = %.6f e C = %.6f\" % (epsilon, C))\n",
        "print(\" RMSE: %s\" % str(resultados))\n",
        "print(\" RMSE médio: %s\" % str(np.mean(resultados)))\n",
        "\n",
        "# Treinando o regressor novamente com os valores padrão\n",
        "resultados = cross_validate(LinearSVR(), entradas, saidas, cv=5, scoring=\"neg_root_mean_squared_error\")\n",
        "resultados = resultados['test_score']\n",
        "print(\"\\nResultado com valores padrão\")\n",
        "print(\" RMSE: %s\" % str(resultados))\n",
        "print(\" RMSE médio: %s\" % str(np.mean(resultados)))"
      ],
      "execution_count": 6,
      "outputs": [
        {
          "output_type": "stream",
          "text": [
            "Resultado com epsilon = 0.300000 e C = 2.353713\n",
            " RMSE: [-2.10583614 -2.15495328 -4.1313146  -1.47541913 -2.18533477]\n",
            " RMSE médio: -2.4105715837729775\n",
            "\n",
            "Resultado com valores padrão\n",
            " RMSE: [-1.79996104 -2.15902527 -1.73344846 -1.93555923 -2.90456844]\n",
            " RMSE médio: -2.1065124874761674\n"
          ],
          "name": "stdout"
        }
      ]
    },
    {
      "cell_type": "markdown",
      "metadata": {
        "id": "VfjFrw383EIU",
        "colab_type": "text"
      },
      "source": [
        "## SVM com kernel RBF\n",
        "\n",
        "Selecione 10 trincas aleatórias dos seguintes hiperparâmetros:\n",
        "\n",
        "* Use epsilon = 0.1 ou 0.3;\n",
        "* Use C entre 2<sup>-5</sup> e 2<sup>15</sup>, uniforme no expoente;\n",
        "* Use gamma entre 2<sup>-9</sup> e 2<sup>32</sup>."
      ]
    },
    {
      "cell_type": "code",
      "metadata": {
        "id": "-4Y92DWp4BUa",
        "colab_type": "code",
        "colab": {
          "base_uri": "https://localhost:8080/",
          "height": 143
        },
        "outputId": "687196fc-c024-4bcc-b090-7654b1e8468f"
      },
      "source": [
        "from sklearn.model_selection import RandomizedSearchCV, cross_validate\n",
        "from scipy.stats import loguniform\n",
        "from sklearn.svm import SVR\n",
        "from sklearn.exceptions import ConvergenceWarning\n",
        "from warnings import simplefilter\n",
        "import numpy as np\n",
        "\n",
        "# Ignorando warnings no treinamento dos regressores\n",
        "simplefilter(\"ignore\", category=ConvergenceWarning)\n",
        "\n",
        "# Definindo o intervalo dos parâmetros a serem utilizados\n",
        "parametros = {\n",
        "    'epsilon': [0.1, 0.3],\n",
        "    'C': loguniform(2**-5, 2**15),\n",
        "    'gamma': loguniform(2**-9, 2**32)\n",
        "}\n",
        "\n",
        "# Buscando valor dos hiperparâmetros\n",
        "randomSCV = RandomizedSearchCV(SVR(kernel=\"rbf\"), parametros, scoring=\"neg_root_mean_squared_error\", cv=5, n_iter=10)\n",
        "randomSCV.fit(entradas, saidas)\n",
        "epsilon = randomSCV.best_params_['epsilon']\n",
        "C = randomSCV.best_params_['C']\n",
        "gamma = randomSCV.best_params_['gamma']\n",
        "\n",
        "# Treinando o regressor novamente com o valores encontrados\n",
        "resultados = cross_validate(SVR(kernel=\"rbf\", epsilon=epsilon, C=C, gamma=gamma), entradas, saidas, cv=5, scoring=\"neg_root_mean_squared_error\")\n",
        "resultados = resultados['test_score']\n",
        "print(\"Resultado com epsilon = %.6f, C = %.6f e gamma = %.6f\" % (epsilon, C, gamma))\n",
        "print(\" RMSE: %s\" % str(resultados))\n",
        "print(\" RMSE médio: %s\" % str(np.mean(resultados)))\n",
        "\n",
        "# Treinando o regressor novamente com os valores padrão\n",
        "resultados = cross_validate(SVR(kernel=\"rbf\"), entradas, saidas, cv=5, scoring=\"neg_root_mean_squared_error\")\n",
        "resultados = resultados['test_score']\n",
        "print(\"\\nResultado com valores padrão\")\n",
        "print(\" RMSE: %s\" % str(resultados))\n",
        "print(\" RMSE médio: %s\" % str(np.mean(resultados)))"
      ],
      "execution_count": 7,
      "outputs": [
        {
          "output_type": "stream",
          "text": [
            "Resultado com epsilon = 0.100000, C = 27.210291 e gamma = 0.007775\n",
            " RMSE: [-2.28220183 -2.86807365 -2.44065828 -3.3918455  -3.01079647]\n",
            " RMSE médio: -2.7987151446976553\n",
            "\n",
            "Resultado com valores padrão\n",
            " RMSE: [-2.73602099 -3.17623114 -2.56503916 -3.77497041 -3.31859768]\n",
            " RMSE médio: -3.114171876069416\n"
          ],
          "name": "stdout"
        }
      ]
    },
    {
      "cell_type": "markdown",
      "metadata": {
        "id": "csUaUMQX8fEK",
        "colab_type": "text"
      },
      "source": [
        "## KNN\n",
        "\n",
        "Realizar a busca dos seguintes hiperparâmetros:\n",
        "\n",
        "* K: 10 números aleatórios entre 1 e 1000.\n"
      ]
    },
    {
      "cell_type": "code",
      "metadata": {
        "id": "FYuT7JXe81Ur",
        "colab_type": "code",
        "colab": {
          "base_uri": "https://localhost:8080/",
          "height": 143
        },
        "outputId": "bdbf929b-2d2d-49dd-f760-756b4746687c"
      },
      "source": [
        "from sklearn.model_selection import RandomizedSearchCV, cross_validate\n",
        "from scipy.stats import randint\n",
        "from sklearn.neighbors import KNeighborsRegressor\n",
        "import numpy as np\n",
        "\n",
        "# Definindo o intervalo dos parâmetros a serem utilizados\n",
        "parametros = {\n",
        "    'n_neighbors': randint(1, 1000)\n",
        "}\n",
        "\n",
        "# Buscando valor dos hiperparâmetros\n",
        "randomSCV = RandomizedSearchCV(KNeighborsRegressor(), parametros, scoring=\"neg_root_mean_squared_error\", cv=5, n_iter=10)\n",
        "randomSCV.fit(entradas, saidas)\n",
        "n_neighbors = randomSCV.best_params_['n_neighbors']\n",
        "\n",
        "# Treinando o regressor novamente com os valores encontrados\n",
        "resultados = cross_validate(KNeighborsRegressor(n_neighbors=n_neighbors), entradas, saidas, cv=5, scoring=\"neg_root_mean_squared_error\")\n",
        "resultados = resultados['test_score']\n",
        "print(\"Resultado com k = %.d\" % (n_neighbors))\n",
        "print(\" RMSE: %s\" % str(resultados))\n",
        "print(\" RMSE médio: %s\" % str(np.mean(resultados)))\n",
        "\n",
        "# Treinando o regressor novamente com os valores padrão\n",
        "resultados = cross_validate(KNeighborsRegressor(), entradas, saidas, cv=5, scoring=\"neg_root_mean_squared_error\")\n",
        "resultados = resultados['test_score']\n",
        "print(\"\\nResultado com valores padrão\")\n",
        "print(\" RMSE: %s\" % str(resultados))\n",
        "print(\" RMSE médio: %s\" % str(np.mean(resultados)))"
      ],
      "execution_count": 8,
      "outputs": [
        {
          "output_type": "stream",
          "text": [
            "Resultado com k = 233\n",
            " RMSE: [-2.50083248 -3.40636012 -2.31767305 -3.4356876  -2.97935069]\n",
            " RMSE médio: -2.927980789159044\n",
            "\n",
            "Resultado com valores padrão\n",
            " RMSE: [-2.03084573 -3.09673656 -2.55005169 -2.89490713 -2.84662304]\n",
            " RMSE médio: -2.683832831870829\n"
          ],
          "name": "stdout"
        }
      ]
    },
    {
      "cell_type": "markdown",
      "metadata": {
        "id": "xiwHzds2A83e",
        "colab_type": "text"
      },
      "source": [
        "## MLP\n",
        "\n",
        "Realize a busca dos seguintes hiperparâmetros:\n",
        "\n",
        "* Neurônios na camada do meio: de 5 a 20, de três em três."
      ]
    },
    {
      "cell_type": "code",
      "metadata": {
        "id": "jJZM_Gr0B90Z",
        "colab_type": "code",
        "colab": {
          "base_uri": "https://localhost:8080/",
          "height": 143
        },
        "outputId": "b2219c62-8a97-493c-f7db-d915c71855ec"
      },
      "source": [
        "from sklearn.model_selection import GridSearchCV, cross_validate\n",
        "from sklearn.neural_network import MLPRegressor\n",
        "import numpy as np\n",
        "\n",
        "# Definindo o intervalo dos parâmetros a serem utilizados\n",
        "parametros = {\n",
        "    'hidden_layer_sizes': np.arange(5, 20+1, 3)\n",
        "}\n",
        "\n",
        "# Buscando valor dos hiperparâmetros\n",
        "grid = GridSearchCV(estimator=MLPRegressor(), param_grid=parametros, scoring=\"neg_mean_absolute_error\", cv=5, n_jobs=-1)\n",
        "grid.fit(entradas, saidas)\n",
        "hidden_layer_sizes = grid.best_params_['hidden_layer_sizes']\n",
        "\n",
        "# Treinando o regressor novamente com os valores encontrados\n",
        "resultados = cross_validate(MLPRegressor(hidden_layer_sizes=hidden_layer_sizes), entradas, saidas, cv=5, scoring=\"neg_root_mean_squared_error\", n_jobs=-1)\n",
        "resultados = resultados['test_score']\n",
        "print(\"Resultado com %.d neurônios na camada escondida\" % (hidden_layer_sizes))\n",
        "print(\" RMSE: %s\" % str(resultados))\n",
        "print(\" RMSE médio: %s\" % str(np.mean(resultados)))\n",
        "\n",
        "# Treinando o regressor novamente com os valores padrão\n",
        "resultados = cross_validate(MLPRegressor(), entradas, saidas, cv=5, scoring=\"neg_root_mean_squared_error\", n_jobs=-1)\n",
        "resultados = resultados['test_score']\n",
        "print(\"\\nResultado com valores padrão\")\n",
        "print(\" RMSE: %s\" % str(resultados))\n",
        "print(\" RMSE médio: %s\" % str(np.mean(resultados)))"
      ],
      "execution_count": 6,
      "outputs": [
        {
          "output_type": "stream",
          "text": [
            "Resultado com 14 neurônios na camada escondida\n",
            " RMSE: [-1.3234398  -1.70751047 -1.43086174 -1.49964911 -1.75843745]\n",
            " RMSE médio: -1.543979715275027\n",
            "\n",
            "Resultado com valores padrão\n",
            " RMSE: [-1.55949089 -1.72734547 -1.66182321 -1.73675521 -1.79740063]\n",
            " RMSE médio: -1.6965630818670607\n"
          ],
          "name": "stdout"
        }
      ]
    },
    {
      "cell_type": "markdown",
      "metadata": {
        "id": "tbSHPKl4sFb3",
        "colab_type": "text"
      },
      "source": [
        "## Árvore de decisão\n",
        "\n",
        "Utilize Árvore de Decisão com *Prunning*. Realize a busca dos seguintes hiperparâmetros:\n",
        "\n",
        "* ccp_alpha: 10 números aleatórios entre 0.0 e 0.04."
      ]
    },
    {
      "cell_type": "code",
      "metadata": {
        "id": "Dr64dJdDuNqH",
        "colab_type": "code",
        "colab": {
          "base_uri": "https://localhost:8080/",
          "height": 143
        },
        "outputId": "fa8cefd3-d16d-43d8-fd7e-531a11cc39f0"
      },
      "source": [
        "from sklearn.model_selection import RandomizedSearchCV, cross_validate\n",
        "from scipy.stats import uniform\n",
        "from sklearn.tree import DecisionTreeRegressor\n",
        "import numpy as np\n",
        "\n",
        "# Definindo o intervalo dos parâmetros a serem utilizados\n",
        "parametros = {\n",
        "    'ccp_alpha': uniform(0.0, 0.04)\n",
        "}\n",
        "\n",
        "# Buscando valor dos hiperparâmetros\n",
        "randomSCV = RandomizedSearchCV(DecisionTreeRegressor(), parametros, scoring=\"neg_root_mean_squared_error\", cv=5, n_iter=10)\n",
        "randomSCV.fit(entradas, saidas)\n",
        "ccp_alpha = randomSCV.best_params_['ccp_alpha']\n",
        "\n",
        "# Treinando o regressor novamente com o valores encontrados\n",
        "resultados = cross_validate(DecisionTreeRegressor(ccp_alpha=ccp_alpha), entradas, saidas, cv=5, scoring=\"neg_root_mean_squared_error\")\n",
        "resultados = resultados['test_score']\n",
        "print(\"Resultado com ccp_alpha = %.6f\" % (ccp_alpha))\n",
        "print(\" RMSE: %s\" % str(resultados))\n",
        "print(\" RMSE médio: %s\" % str(np.mean(resultados)))\n",
        "\n",
        "# Treinando o regressor novamente com os valores padrão\n",
        "resultados = cross_validate(DecisionTreeRegressor(), entradas, saidas, cv=5, scoring=\"neg_root_mean_squared_error\")\n",
        "resultados = resultados['test_score']\n",
        "print(\"\\nResultado com valores padrão\")\n",
        "print(\" RMSE: %s\" % str(resultados))\n",
        "print(\" RMSE médio: %s\" % str(np.mean(resultados)))"
      ],
      "execution_count": 9,
      "outputs": [
        {
          "output_type": "stream",
          "text": [
            "Resultado com ccp_alpha = 0.037141\n",
            " RMSE: [-1.63674525 -1.8703188  -1.77945644 -1.9282168  -2.00780671]\n",
            " RMSE médio: -1.844508801634447\n",
            "\n",
            "Resultado com valores padrão\n",
            " RMSE: [-2.19665424 -2.18767659 -2.23676461 -2.21983329 -2.3221938 ]\n",
            " RMSE médio: -2.2326245077882114\n"
          ],
          "name": "stdout"
        }
      ]
    },
    {
      "cell_type": "markdown",
      "metadata": {
        "id": "aJ2LtqT3zd-s",
        "colab_type": "text"
      },
      "source": [
        "## Random Forest\n",
        "\n",
        "Use todas as combinações dos valores abaixo:\n",
        "\n",
        "* n_estimators: use os valores: 10, 100 e 1000;\n",
        "* max_features: use os valores 5, 10 e 22."
      ]
    },
    {
      "cell_type": "code",
      "metadata": {
        "id": "H_ratbC1z1c_",
        "colab_type": "code",
        "colab": {
          "base_uri": "https://localhost:8080/",
          "height": 143
        },
        "outputId": "dbd18804-2830-4966-92f1-eae402ecd611"
      },
      "source": [
        "from sklearn.model_selection import GridSearchCV, cross_validate\n",
        "from sklearn.ensemble import RandomForestRegressor\n",
        "import numpy as np\n",
        "\n",
        "# Definindo o intervalo dos parâmetros a serem utilizados\n",
        "parametros = {\n",
        "    'n_estimators': [10, 100, 1000],\n",
        "    'max_features': [5, 10, 22]\n",
        "}\n",
        "\n",
        "# Buscando valor dos hiperparâmetros\n",
        "grid = GridSearchCV(estimator=RandomForestRegressor(), param_grid=parametros, scoring=\"neg_mean_absolute_error\", cv=5)\n",
        "grid.fit(entradas, saidas)\n",
        "n_estimators = grid.best_params_['n_estimators']\n",
        "max_features = grid.best_params_['max_features']\n",
        "\n",
        "# Treinando o regressor novamente com os valores encontrados\n",
        "resultados = cross_validate(RandomForestRegressor(n_estimators=n_estimators, max_features=max_features), entradas, saidas, cv=5, scoring=\"neg_root_mean_squared_error\")\n",
        "resultados = resultados['test_score']\n",
        "print(\"Resultado com n_estimators = %.d e max_features = %.d\" % (n_estimators, max_features))\n",
        "print(\" RMSE: %s\" % str(resultados))\n",
        "print(\" RMSE médio: %s\" % str(np.mean(resultados)))\n",
        "\n",
        "# Treinando o regressor novamente com os valores padrão\n",
        "resultados = cross_validate(RandomForestRegressor(), entradas, saidas, cv=5, scoring=\"neg_root_mean_squared_error\")\n",
        "resultados = resultados['test_score']\n",
        "print(\"\\nResultado com valores padrão\")\n",
        "print(\" RMSE: %s\" % str(resultados))\n",
        "print(\" RMSE médio: %s\" % str(np.mean(resultados)))"
      ],
      "execution_count": 11,
      "outputs": [
        {
          "output_type": "stream",
          "text": [
            "Resultado n_estimators = 1000.000000 e max_features = 10.000000\n",
            " RMSE: [-1.40374528 -1.69751828 -1.56442616 -1.64455589 -1.82495572]\n",
            " RMSE médio: -1.6270402644215936\n",
            "\n",
            "Resultado com valores padrão\n",
            " RMSE: [-1.42262887 -1.68734475 -1.5920067  -1.69634303 -1.89542532]\n",
            " RMSE médio: -1.658749731470266\n"
          ],
          "name": "stdout"
        }
      ]
    },
    {
      "cell_type": "markdown",
      "metadata": {
        "id": "UNIIjtyJ4v5x",
        "colab_type": "text"
      },
      "source": [
        "## GBM\n",
        "Explore 10 trincas aleatórias dos seguintes hiperparâmetros:\n",
        "\n",
        "* n_estimators: de 5 a 100;\n",
        "* learning_rate: de 0.01 a 0.3;\n",
        "* max_depth: 2 ou 3."
      ]
    },
    {
      "cell_type": "code",
      "metadata": {
        "id": "TYD-Zb1X5NfG",
        "colab_type": "code",
        "colab": {
          "base_uri": "https://localhost:8080/",
          "height": 143
        },
        "outputId": "d76e1989-d11f-4baf-9efe-269fb3507d54"
      },
      "source": [
        "from sklearn.model_selection import RandomizedSearchCV, cross_validate\n",
        "from scipy.stats import randint, uniform\n",
        "from sklearn.ensemble import GradientBoostingRegressor\n",
        "import numpy as np\n",
        "\n",
        "# Definindo o intervalo dos parâmetros a serem utilizados\n",
        "parametros = {\n",
        "    'n_estimators': randint(5, 100+1),\n",
        "    'learning_rate': uniform(0.01, 0.3),\n",
        "    'max_depth': [2, 3]\n",
        "}\n",
        "\n",
        "# Buscando valor dos hiperparâmetros\n",
        "randomSCV = RandomizedSearchCV(GradientBoostingRegressor(), parametros, scoring=\"neg_root_mean_squared_error\", cv=5, n_iter=10)\n",
        "randomSCV.fit(entradas, saidas)\n",
        "n_estimators = randomSCV.best_params_['n_estimators']\n",
        "learning_rate = randomSCV.best_params_['learning_rate']\n",
        "max_depth = randomSCV.best_params_['max_depth']\n",
        "\n",
        "# Treinando o regressor novamente com o valores encontrados\n",
        "resultados = cross_validate(GradientBoostingRegressor(n_estimators=n_estimators, learning_rate=learning_rate, max_depth=max_depth), entradas, saidas, cv=5, scoring=\"neg_root_mean_squared_error\")\n",
        "resultados = resultados['test_score']\n",
        "print(\"Resultado com n_estimators = %.d, learning_rate = %.6f e max_depth = %d\" % (n_estimators, learning_rate, max_depth))\n",
        "print(\" RMSE: %s\" % str(resultados))\n",
        "print(\" RMSE médio: %s\" % str(np.mean(resultados)))\n",
        "\n",
        "# Treinando o regressor novamente com os valores padrão\n",
        "resultados = cross_validate(GradientBoostingRegressor(), entradas, saidas, cv=5, scoring=\"neg_root_mean_squared_error\")\n",
        "resultados = resultados['test_score']\n",
        "print(\"\\nResultado com valores padrão\")\n",
        "print(\" RMSE: %s\" % str(resultados))\n",
        "print(\" RMSE médio: %s\" % str(np.mean(resultados)))"
      ],
      "execution_count": 13,
      "outputs": [
        {
          "output_type": "stream",
          "text": [
            "Resultado com n_estimators = 68, learning_rate = 0.079438 e max_depth = 3\n",
            " RMSE: [-1.39778154 -1.61092326 -1.51460042 -1.64153547 -1.82981414]\n",
            " RMSE médio: -1.5989309634089326\n",
            "\n",
            "Resultado com valores padrão\n",
            " RMSE: [-1.43854345 -1.60741569 -1.51087636 -1.63332653 -1.79809363]\n",
            " RMSE médio: -1.5976511341912603\n"
          ],
          "name": "stdout"
        }
      ]
    },
    {
      "cell_type": "markdown",
      "metadata": {
        "id": "bzQrozdD9AcI",
        "colab_type": "text"
      },
      "source": [
        "## Resultados gerais\n",
        "A tabela a baixo agrupa todos os resultados obtidos pelos regressores testados. Nela são mostrados os valores obtidos de RMSE médio para o regressor treinado com os melhores valores encontrados dos hiperparâmetros e o RMSE médio para o regressor treinado com os valores padrão da biblioteca.\n",
        "\n",
        "| Regressor            | RMSE otimizado         | RMSE padrão            |\n",
        "| :---                 | :----                  | :---                   |\n",
        "| Regressão Linear     | 1.5775462124225534     | 1.5775462124225534     |\n",
        "| Linear com L2        | 1.57056808076174       | 1.577215484134355      |\n",
        "| Linear com L1        | 1.5763657451362054     | 1.7203283486138212     |\n",
        "| SVM Linear           | 2.4105715837729775     | 2.1065124874761674     |\n",
        "| SVM com kernel RBF   | 2.7987151446976553     | 3.114171876069416      |\n",
        "| KNN                  | 2.927980789159044      | 2.683832831870829      |\n",
        "| **MLP**              | **1.543979715275027**  | **1.6965630818670607** |\n",
        "| Árvore de decisão    | 1.844508801634447      | 2.2326245077882114     |\n",
        "| Random Forest        | 1.6270402644215936     | 1.658749731470266      |\n",
        "| GBM                  | 1.5989309634089326     | 1.5976511341912603     |\n",
        "\n",
        "Como pode ser observado na Tabela acima, a Rede Neural MLP foi o regressor com o melhor resultado."
      ]
    }
  ]
}